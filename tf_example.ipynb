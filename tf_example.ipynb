{
 "cells": [
  {
   "cell_type": "code",
   "execution_count": 1,
   "id": "39b3fa4b-d401-4281-9d00-9385ada301cb",
   "metadata": {},
   "outputs": [
    {
     "name": "stdout",
     "output_type": "stream",
     "text": [
      "Requirement already satisfied: tensorflow in /home/instructor/milvus_env/lib/python3.11/site-packages (2.12.0)\n",
      "Requirement already satisfied: tensorflow-hub in /home/instructor/milvus_env/lib/python3.11/site-packages (0.13.0)\n",
      "Requirement already satisfied: numpy in /home/instructor/milvus_env/lib/python3.11/site-packages (1.23.5)\n",
      "Requirement already satisfied: absl-py>=1.0.0 in /home/instructor/milvus_env/lib/python3.11/site-packages (from tensorflow) (1.4.0)\n",
      "Requirement already satisfied: astunparse>=1.6.0 in /home/instructor/milvus_env/lib/python3.11/site-packages (from tensorflow) (1.6.3)\n",
      "Requirement already satisfied: flatbuffers>=2.0 in /home/instructor/milvus_env/lib/python3.11/site-packages (from tensorflow) (23.5.9)\n",
      "Requirement already satisfied: gast<=0.4.0,>=0.2.1 in /home/instructor/milvus_env/lib/python3.11/site-packages (from tensorflow) (0.4.0)\n",
      "Requirement already satisfied: google-pasta>=0.1.1 in /home/instructor/milvus_env/lib/python3.11/site-packages (from tensorflow) (0.2.0)\n",
      "Requirement already satisfied: grpcio<2.0,>=1.24.3 in /home/instructor/milvus_env/lib/python3.11/site-packages (from tensorflow) (1.53.0)\n",
      "Requirement already satisfied: h5py>=2.9.0 in /home/instructor/milvus_env/lib/python3.11/site-packages (from tensorflow) (3.8.0)\n",
      "Requirement already satisfied: jax>=0.3.15 in /home/instructor/milvus_env/lib/python3.11/site-packages (from tensorflow) (0.4.10)\n",
      "Requirement already satisfied: keras<2.13,>=2.12.0 in /home/instructor/milvus_env/lib/python3.11/site-packages (from tensorflow) (2.12.0)\n",
      "Requirement already satisfied: libclang>=13.0.0 in /home/instructor/milvus_env/lib/python3.11/site-packages (from tensorflow) (16.0.0)\n",
      "Requirement already satisfied: opt-einsum>=2.3.2 in /home/instructor/milvus_env/lib/python3.11/site-packages (from tensorflow) (3.3.0)\n",
      "Requirement already satisfied: packaging in /home/instructor/milvus_env/lib/python3.11/site-packages (from tensorflow) (23.1)\n",
      "Requirement already satisfied: protobuf!=4.21.0,!=4.21.1,!=4.21.2,!=4.21.3,!=4.21.4,!=4.21.5,<5.0.0dev,>=3.20.3 in /home/instructor/milvus_env/lib/python3.11/site-packages (from tensorflow) (4.23.1)\n",
      "Requirement already satisfied: setuptools in /home/instructor/milvus_env/lib/python3.11/site-packages (from tensorflow) (66.1.1)\n",
      "Requirement already satisfied: six>=1.12.0 in /home/instructor/milvus_env/lib/python3.11/site-packages (from tensorflow) (1.16.0)\n",
      "Requirement already satisfied: tensorboard<2.13,>=2.12 in /home/instructor/milvus_env/lib/python3.11/site-packages (from tensorflow) (2.12.3)\n",
      "Requirement already satisfied: tensorflow-estimator<2.13,>=2.12.0 in /home/instructor/milvus_env/lib/python3.11/site-packages (from tensorflow) (2.12.0)\n",
      "Requirement already satisfied: termcolor>=1.1.0 in /home/instructor/milvus_env/lib/python3.11/site-packages (from tensorflow) (2.3.0)\n",
      "Requirement already satisfied: typing-extensions>=3.6.6 in /home/instructor/milvus_env/lib/python3.11/site-packages (from tensorflow) (4.5.0)\n",
      "Requirement already satisfied: wrapt<1.15,>=1.11.0 in /home/instructor/milvus_env/lib/python3.11/site-packages (from tensorflow) (1.14.1)\n",
      "Requirement already satisfied: tensorflow-io-gcs-filesystem>=0.23.1 in /home/instructor/milvus_env/lib/python3.11/site-packages (from tensorflow) (0.32.0)\n",
      "Requirement already satisfied: wheel<1.0,>=0.23.0 in /home/instructor/milvus_env/lib/python3.11/site-packages (from astunparse>=1.6.0->tensorflow) (0.40.0)\n",
      "Requirement already satisfied: ml-dtypes>=0.1.0 in /home/instructor/milvus_env/lib/python3.11/site-packages (from jax>=0.3.15->tensorflow) (0.1.0)\n",
      "Requirement already satisfied: scipy>=1.7 in /home/instructor/milvus_env/lib/python3.11/site-packages (from jax>=0.3.15->tensorflow) (1.10.1)\n",
      "Requirement already satisfied: google-auth<3,>=1.6.3 in /home/instructor/milvus_env/lib/python3.11/site-packages (from tensorboard<2.13,>=2.12->tensorflow) (2.18.1)\n",
      "Requirement already satisfied: google-auth-oauthlib<1.1,>=0.5 in /home/instructor/milvus_env/lib/python3.11/site-packages (from tensorboard<2.13,>=2.12->tensorflow) (1.0.0)\n",
      "Requirement already satisfied: markdown>=2.6.8 in /home/instructor/milvus_env/lib/python3.11/site-packages (from tensorboard<2.13,>=2.12->tensorflow) (3.4.3)\n",
      "Requirement already satisfied: requests<3,>=2.21.0 in /home/instructor/milvus_env/lib/python3.11/site-packages (from tensorboard<2.13,>=2.12->tensorflow) (2.30.0)\n",
      "Requirement already satisfied: tensorboard-data-server<0.8.0,>=0.7.0 in /home/instructor/milvus_env/lib/python3.11/site-packages (from tensorboard<2.13,>=2.12->tensorflow) (0.7.0)\n",
      "Requirement already satisfied: werkzeug>=1.0.1 in /home/instructor/milvus_env/lib/python3.11/site-packages (from tensorboard<2.13,>=2.12->tensorflow) (2.3.4)\n",
      "Requirement already satisfied: cachetools<6.0,>=2.0.0 in /home/instructor/milvus_env/lib/python3.11/site-packages (from google-auth<3,>=1.6.3->tensorboard<2.13,>=2.12->tensorflow) (5.3.0)\n",
      "Requirement already satisfied: pyasn1-modules>=0.2.1 in /home/instructor/milvus_env/lib/python3.11/site-packages (from google-auth<3,>=1.6.3->tensorboard<2.13,>=2.12->tensorflow) (0.3.0)\n",
      "Requirement already satisfied: urllib3<2.0 in /home/instructor/milvus_env/lib/python3.11/site-packages (from google-auth<3,>=1.6.3->tensorboard<2.13,>=2.12->tensorflow) (1.26.15)\n",
      "Requirement already satisfied: rsa<5,>=3.1.4 in /home/instructor/milvus_env/lib/python3.11/site-packages (from google-auth<3,>=1.6.3->tensorboard<2.13,>=2.12->tensorflow) (4.9)\n",
      "Requirement already satisfied: requests-oauthlib>=0.7.0 in /home/instructor/milvus_env/lib/python3.11/site-packages (from google-auth-oauthlib<1.1,>=0.5->tensorboard<2.13,>=2.12->tensorflow) (1.3.1)\n",
      "Requirement already satisfied: charset-normalizer<4,>=2 in /home/instructor/milvus_env/lib/python3.11/site-packages (from requests<3,>=2.21.0->tensorboard<2.13,>=2.12->tensorflow) (3.1.0)\n",
      "Requirement already satisfied: idna<4,>=2.5 in /home/instructor/milvus_env/lib/python3.11/site-packages (from requests<3,>=2.21.0->tensorboard<2.13,>=2.12->tensorflow) (3.4)\n",
      "Requirement already satisfied: certifi>=2017.4.17 in /home/instructor/milvus_env/lib/python3.11/site-packages (from requests<3,>=2.21.0->tensorboard<2.13,>=2.12->tensorflow) (2023.5.7)\n",
      "Requirement already satisfied: MarkupSafe>=2.1.1 in /home/instructor/milvus_env/lib/python3.11/site-packages (from werkzeug>=1.0.1->tensorboard<2.13,>=2.12->tensorflow) (2.1.2)\n",
      "Requirement already satisfied: pyasn1<0.6.0,>=0.4.6 in /home/instructor/milvus_env/lib/python3.11/site-packages (from pyasn1-modules>=0.2.1->google-auth<3,>=1.6.3->tensorboard<2.13,>=2.12->tensorflow) (0.5.0)\n",
      "Requirement already satisfied: oauthlib>=3.0.0 in /home/instructor/milvus_env/lib/python3.11/site-packages (from requests-oauthlib>=0.7.0->google-auth-oauthlib<1.1,>=0.5->tensorboard<2.13,>=2.12->tensorflow) (3.2.2)\n"
     ]
    },
    {
     "name": "stderr",
     "output_type": "stream",
     "text": [
      "2023-05-23 17:05:18.090314: I tensorflow/tsl/cuda/cudart_stub.cc:28] Could not find cuda drivers on your machine, GPU will not be used.\n",
      "2023-05-23 17:05:18.116175: I tensorflow/tsl/cuda/cudart_stub.cc:28] Could not find cuda drivers on your machine, GPU will not be used.\n",
      "2023-05-23 17:05:18.116756: I tensorflow/core/platform/cpu_feature_guard.cc:182] This TensorFlow binary is optimized to use available CPU instructions in performance-critical operations.\n",
      "To enable the following instructions: AVX2 FMA, in other operations, rebuild TensorFlow with the appropriate compiler flags.\n",
      "2023-05-23 17:05:18.713497: W tensorflow/compiler/tf2tensorrt/utils/py_utils.cc:38] TF-TRT Warning: Could not find TensorRT\n"
     ]
    }
   ],
   "source": [
    "! pip3 install tensorflow tensorflow-hub numpy \n",
    "import os\n",
    "import tensorflow as tf\n",
    "import tensorflow_hub as hub\n",
    "import numpy as np\n",
    "import os\n",
    "import re\n",
    "from pymilvus import Collection, FieldSchema, CollectionSchema, DataType, connections, utility"
   ]
  },
  {
   "cell_type": "code",
   "execution_count": 2,
   "id": "e07d77d8-ae70-412d-992e-3b4fe1f94c63",
   "metadata": {},
   "outputs": [],
   "source": [
    "# Download the model and load the model\n",
    "\n",
    "module_url = \"https://tfhub.dev/google/universal-sentence-encoder-large/5\" #@param [\"https://tfhub.dev/google/universal-sentence-encoder/4\", \"https://tfhub.dev/google/universal-sentence-encoder-large/5\"]\n",
    "model = hub.load(module_url)"
   ]
  },
  {
   "cell_type": "code",
   "execution_count": 3,
   "id": "40facc29-5027-4f5d-8689-7c3960e685a5",
   "metadata": {},
   "outputs": [],
   "source": [
    "# Function to generate embeddings\n",
    "\n",
    "def embeddings(text):\n",
    "    return np.array(model(text)).flatten().tolist()"
   ]
  },
  {
   "cell_type": "code",
   "execution_count": 4,
   "id": "774acf80-65b5-486a-9bbb-d3b4660fddf7",
   "metadata": {},
   "outputs": [
    {
     "name": "stderr",
     "output_type": "stream",
     "text": [
      "2023-05-23 17:09:46.756712: I tensorflow/core/common_runtime/executor.cc:1197] [/device:CPU:0] (DEBUG INFO) Executor start aborting (this does not indicate an error and you can ignore this message): INVALID_ARGUMENT: You must feed a value for placeholder tensor 'inputs' with dtype string\n",
      "\t [[{{node inputs}}]]\n"
     ]
    }
   ],
   "source": [
    "# Dataset available at https://archive.ics.uci.edu/ml/datasets/SMS+Spam+Collection\n",
    "# Download the dataset and extract the files before running this cell\n",
    "# We will create the embeddings from this dataset using the universal-sentence-encoder model\n",
    "\n",
    "file_path = 'SMSSpamCollection'\n",
    "\n",
    "with open(file_path) as file:\n",
    "    lines = [line for line in file]\n",
    "\n",
    "msgs = [x.split('\\t')[1].replace('\\n', '')   for x in lines]\n",
    "embdngs = [embeddings([x]) for x in msgs]\n",
    "indx = list(range(1, len(msgs)+1))\n",
    "\n",
    "data_to_insert = [indx, msgs, embdngs]"
   ]
  },
  {
   "cell_type": "code",
   "execution_count": 5,
   "id": "69b5e55d-8255-4515-9bd1-3695e9eeb1bb",
   "metadata": {},
   "outputs": [],
   "source": [
    "# Connect to milvus database\n",
    "\n",
    "connections.connect(\n",
    "  alias=\"default\",\n",
    "  host='localhost',\n",
    "  port='19530'\n",
    ")"
   ]
  },
  {
   "cell_type": "code",
   "execution_count": 6,
   "id": "e76e8565-d601-4b8c-9508-eabd99561718",
   "metadata": {},
   "outputs": [
    {
     "data": {
      "text/plain": [
       "['Album1', 'Spam_Test']"
      ]
     },
     "execution_count": 6,
     "metadata": {},
     "output_type": "execute_result"
    }
   ],
   "source": [
    "# Field Schema\n",
    "id = FieldSchema(\n",
    "  name=\"id\",\n",
    "  dtype=DataType.INT64,\n",
    "  is_primary=True,\n",
    ")\n",
    "message = FieldSchema(\n",
    "  name=\"message\",\n",
    "  dtype=DataType.VARCHAR,\n",
    "  max_length=6000,\n",
    ")\n",
    "message_vec = FieldSchema(\n",
    "  name=\"message_embeddings\",\n",
    "  dtype=DataType.FLOAT_VECTOR,\n",
    "  dim=512\n",
    ")\n",
    "# collection schema\n",
    "collection_schema = CollectionSchema(\n",
    "  fields=[id, message, message_vec],\n",
    "  description=\"Spam SMS collection\"\n",
    ")\n",
    "# Create collection\n",
    "collection = Collection(\n",
    "    name=\"Spam_Test\",\n",
    "    schema=collection_schema,\n",
    "    using='default')\n",
    "utility.list_collections()"
   ]
  },
  {
   "cell_type": "code",
   "execution_count": 7,
   "id": "0e1a5937-79fc-4df3-a7d1-a6e5e1c3a781",
   "metadata": {},
   "outputs": [],
   "source": [
    "# Insert entities\n",
    "\n",
    "data_insert = collection.insert(data_to_insert)"
   ]
  },
  {
   "cell_type": "code",
   "execution_count": 8,
   "id": "47838f7e-e751-4788-866d-c26a5b65d5df",
   "metadata": {},
   "outputs": [
    {
     "data": {
      "text/plain": [
       "Status(code=0, message=)"
      ]
     },
     "execution_count": 8,
     "metadata": {},
     "output_type": "execute_result"
    }
   ],
   "source": [
    "# Create Index\n",
    "index_params = {\n",
    "  \"metric_type\":\"L2\",\n",
    "  \"index_type\":\"IVF_FLAT\",\n",
    "  \"params\":{\"nlist\":1024},\n",
    "  \"index_name\": \"SMS_IVF_FLAT_TEST\"\n",
    "}\n",
    "\n",
    "# Index on vector field\n",
    "collection.create_index(\n",
    "  field_name=\"message_embeddings\", \n",
    "  index_params=index_params\n",
    ")"
   ]
  },
  {
   "cell_type": "code",
   "execution_count": 9,
   "id": "01df515b-57c0-4918-bfb4-babf59a031bb",
   "metadata": {},
   "outputs": [],
   "source": [
    "# Load the collection\n",
    "\n",
    "collection.load(replica_number=1)"
   ]
  },
  {
   "cell_type": "code",
   "execution_count": 10,
   "id": "6f3aaf9a-feb9-4cc2-a33d-a87a7f0d43e9",
   "metadata": {},
   "outputs": [],
   "source": [
    "# test message\n",
    "test_message = [\"claim prize\"]\n",
    "test_message_vector = embeddings(test_message)"
   ]
  },
  {
   "cell_type": "code",
   "execution_count": 11,
   "id": "e8b85606-69de-4990-83cb-277e085025c5",
   "metadata": {},
   "outputs": [
    {
     "name": "stdout",
     "output_type": "stream",
     "text": [
      "id: 4048, distance: 1.1847829818725586, entity: {'message': 'Win a £1000 cash prize or a prize worth £5000'}\n",
      "id: 577, distance: 1.1955623626708984, entity: {'message': 'You have won ?1,000 cash or a ?2,000 prize! To claim, call09050000327'}\n",
      "id: 9, distance: 1.2261712551116943, entity: {'message': 'WINNER!! As a valued network customer you have been selected to receivea £900 prize reward! To claim call 09061701461. Claim code KL341. Valid 12 hours only.'}\n",
      "id: 4282, distance: 1.2261712551116943, entity: {'message': 'WINNER!! As a valued network customer you have been selected to receivea £900 prize reward! To claim call 09061701461. Claim code KL341. Valid 12 hours only.'}\n",
      "id: 4037, distance: 1.226269245147705, entity: {'message': 'YOU ARE CHOSEN TO RECEIVE A £350 AWARD! Pls call claim number 09066364311 to collect your award which you are selected to receive as a valued mobile customer.'}\n"
     ]
    }
   ],
   "source": [
    "## Vector Similarity Search\n",
    "search_params = {\"metric_type\": \"L2\", \"params\": {\"nprobe\": 64}}\n",
    "\n",
    "results = collection.search(\n",
    "\tdata=[test_message_vector], \n",
    "\tanns_field=\"message_embeddings\", \n",
    "\tparam=search_params,\n",
    "\tlimit=5, \n",
    "\texpr=None,\n",
    "\toutput_fields=['message']\n",
    ")\n",
    "\n",
    "for result in results[0]:\n",
    "    print (result)"
   ]
  },
  {
   "cell_type": "code",
   "execution_count": null,
   "id": "a83f281c-b7c7-4e72-9a49-bbf95edee0c6",
   "metadata": {},
   "outputs": [],
   "source": []
  }
 ],
 "metadata": {
  "kernelspec": {
   "display_name": "Python 3 (ipykernel)",
   "language": "python",
   "name": "python3"
  },
  "language_info": {
   "codemirror_mode": {
    "name": "ipython",
    "version": 3
   },
   "file_extension": ".py",
   "mimetype": "text/x-python",
   "name": "python",
   "nbconvert_exporter": "python",
   "pygments_lexer": "ipython3",
   "version": "3.11.2"
  }
 },
 "nbformat": 4,
 "nbformat_minor": 5
}
