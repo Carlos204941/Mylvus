{
 "cells": [
  {
   "cell_type": "code",
   "execution_count": 1,
   "id": "d6004c80-97b9-4f43-acf6-7cd71a2bbd28",
   "metadata": {},
   "outputs": [
    {
     "name": "stdout",
     "output_type": "stream",
     "text": [
      "Requirement already satisfied: milvus in /home/instructor/milvus_env/lib/python3.11/site-packages (2.2.8)\n"
     ]
    }
   ],
   "source": [
    "!pip3 install milvus\n",
    "from milvus import default_server\n",
    "from pymilvus import connections, utility"
   ]
  },
  {
   "cell_type": "code",
   "execution_count": 2,
   "id": "44dd7b9d-68f2-4bdf-a918-ce01c19f4304",
   "metadata": {},
   "outputs": [
    {
     "name": "stdout",
     "output_type": "stream",
     "text": [
      "\n",
      "\n",
      "    __  _________ _   ____  ______\n",
      "   /  |/  /  _/ /| | / / / / / __/\n",
      "  / /|_/ // // /_| |/ / /_/ /\\ \\\n",
      " /_/  /_/___/____/___/\\____/___/ {Lite}\n",
      "\n",
      " Welcome to use Milvus!\n",
      "\n",
      " Version:   v2.2.8-lite\n",
      " Process:   601283\n",
      " Started:   2023-05-27 15:40:19\n",
      " Config:    /home/instructor/.milvus.io/milvus-server/2.2.8/configs/milvus.yaml\n",
      " Logs:      /home/instructor/.milvus.io/milvus-server/2.2.8/logs\n",
      "\n",
      " Ctrl+C to exit ...\n"
     ]
    }
   ],
   "source": [
    "# Start the server\n",
    "default_server.start()\n",
    "\n",
    "# Connect to the milvus lite server using pymilvus\n",
    "connections.connect(host='127.0.0.1', port=default_server.listen_port)"
   ]
  },
  {
   "cell_type": "code",
   "execution_count": 3,
   "id": "4002b576-ea71-422f-b4a2-e2a0a564e667",
   "metadata": {},
   "outputs": [
    {
     "name": "stdout",
     "output_type": "stream",
     "text": [
      "v2.2.8-lite\n"
     ]
    }
   ],
   "source": [
    "# Get the server version\n",
    "print(utility.get_server_version())"
   ]
  },
  {
   "cell_type": "code",
   "execution_count": 4,
   "id": "f4b6948e-8259-46aa-a31f-f20029c3edc2",
   "metadata": {},
   "outputs": [
    {
     "name": "stdout",
     "output_type": "stream",
     "text": [
      "[]\n"
     ]
    }
   ],
   "source": [
    "# Get the collections\n",
    "print(utility.list_collections())"
   ]
  },
  {
   "cell_type": "code",
   "execution_count": 5,
   "id": "fd9db082-09c2-4ad5-bc39-f1ba8ca049b6",
   "metadata": {},
   "outputs": [],
   "source": [
    "# Stop the server\n",
    "default_server.stop()\n"
   ]
  },
  {
   "cell_type": "code",
   "execution_count": null,
   "id": "835135b4-9307-46a3-8dfa-f5f11f4d3ad4",
   "metadata": {},
   "outputs": [],
   "source": [
    "# Cleanup the server\n",
    "default_server.cleanup()"
   ]
  }
 ],
 "metadata": {
  "kernelspec": {
   "display_name": "Python 3 (ipykernel)",
   "language": "python",
   "name": "python3"
  },
  "language_info": {
   "codemirror_mode": {
    "name": "ipython",
    "version": 3
   },
   "file_extension": ".py",
   "mimetype": "text/x-python",
   "name": "python",
   "nbconvert_exporter": "python",
   "pygments_lexer": "ipython3",
   "version": "3.11.2"
  }
 },
 "nbformat": 4,
 "nbformat_minor": 5
}
