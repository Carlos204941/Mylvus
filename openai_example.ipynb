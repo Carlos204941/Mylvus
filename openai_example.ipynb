{
 "cells": [
  {
   "cell_type": "code",
   "execution_count": null,
   "id": "77af4d42-c7f5-4f46-99ca-282b1e05696e",
   "metadata": {},
   "outputs": [],
   "source": [
    "import os\n",
    "import time\n",
    "import numpy as np\n",
    "import pandas as pd \n",
    "from pymilvus import Collection, FieldSchema, CollectionSchema, DataType, connections, utility\n",
    "from getpass import getpass\n",
    "import openai"
   ]
  },
  {
   "cell_type": "markdown",
   "id": "37b93eb2-9bcb-47bd-837e-6cc39cb2e84a",
   "metadata": {},
   "source": [
    "### Spotify songs dataset from Kaggle\n",
    "\n",
    "The dataset is available for download in the below URL.\n",
    "\n",
    "https://www.kaggle.com/datasets/maharshipandya/-spotify-tracks-dataset\n",
    "\n",
    "The dataset contains ~114000 song information fom various popular artists."
   ]
  },
  {
   "cell_type": "code",
   "execution_count": null,
   "id": "a11a296c-46aa-4424-b82a-7e5eded7ccea",
   "metadata": {},
   "outputs": [],
   "source": [
    "## Read the data and filter out the un-necessary columns\n",
    "songs_dataset = pd.read_csv('spotify.zip', compression='zip', header=0)\n",
    "songs_dataset = songs_dataset.loc[:, ~songs_dataset.columns.str.contains('^Unnamed')]\n",
    "songs_dataset.shape"
   ]
  },
  {
   "cell_type": "code",
   "execution_count": null,
   "id": "0aa72a1b-1603-4bf4-89bb-b00824f83d60",
   "metadata": {},
   "outputs": [],
   "source": [
    "## Filter the data for Linkin Park and choose only the album name, track name and popularity\n",
    "## columns for further processing\n",
    "\n",
    "lp_dataset = songs_dataset[songs_dataset['artists'].str.contains(\"Linkin Park\", na=False)]\n",
    "lp_dataset = lp_dataset[['album_name', 'track_name', 'popularity']]\n",
    "lp_dataset = lp_dataset.drop_duplicates(subset=['album_name', 'track_name'])\n",
    "lp_dataset = lp_dataset.sort_values('popularity', ascending=False)\n",
    "# lp_dataset = lp_dataset[:10]\n",
    "print(lp_dataset.head())\n",
    "print(lp_dataset.shape)"
   ]
  },
  {
   "cell_type": "markdown",
   "id": "2e143107-d3cd-4127-a14d-e901a0331d7b",
   "metadata": {},
   "source": [
    "### Configurations\n",
    "\n",
    "Before we proceed, we need an Open AI account and get the secret API key for the account. Instructions to find the secret API key is available in the below URL.\n",
    "\n",
    "https://help.openai.com/en/articles/4936850-where-do-i-find-my-secret-api-key\n",
    "\n",
    "Open AI limits upto 200 API requests per day for free tier. So be careful wth the number of API calls. The COUNT variable can be used to limit the API calls.\n",
    "\n",
    "We will use the text-embedding-ada-002 model from OpenAI to generate the embeddings"
   ]
  },
  {
   "cell_type": "code",
   "execution_count": null,
   "id": "d15739b3-3dce-4d31-ab51-fa293f17a8bd",
   "metadata": {},
   "outputs": [],
   "source": [
    "# Configs\n",
    "COLLECTION_NAME = 'linkin_park'  # Collection name in Milvus\n",
    "DIMENSION = 1536  # Embeddings size, depends on the embedding model.\n",
    "COUNT = 1000  # Number of titles to embed and insert.\n",
    "OPENAI_ENGINE = 'text-embedding-ada-002'  # Embedding model to be used\n",
    "openai.api_key = getpass('OpenAI API Key: ')  # Use your own Open AI API Key here"
   ]
  },
  {
   "cell_type": "code",
   "execution_count": null,
   "id": "d63d50c3-a914-450a-8f0d-370d88338d42",
   "metadata": {},
   "outputs": [],
   "source": [
    "# Create the connection to Milvus. \n",
    "\n",
    "connections.connect(\n",
    "  alias=\"default\",\n",
    "  host='localhost',\n",
    "  port='19530',\n",
    "#  user='root',\n",
    "#  password=getpass('Milvus Password: ')\n",
    ")"
   ]
  },
  {
   "cell_type": "code",
   "execution_count": null,
   "id": "6b0c1c4b-49da-480a-a734-290458431dec",
   "metadata": {},
   "outputs": [],
   "source": [
    "# Remove collection if it already exists\n",
    "if utility.has_collection(COLLECTION_NAME):\n",
    "    utility.drop_collection(COLLECTION_NAME)\n",
    "\n",
    "# Create collection which includes the id, title, and embedding.\n",
    "track_name_field = FieldSchema(name='track_name', dtype=DataType.VARCHAR, max_length=1024,is_primary=True, auto_id=False)\n",
    "album_name_field = FieldSchema(name='album_name', dtype=DataType.VARCHAR, max_length=1024)\n",
    "popularity_field = FieldSchema(name='popularity', dtype=DataType.INT64)\n",
    "embedding_field = FieldSchema(name='embedding', dtype=DataType.FLOAT_VECTOR, description='Embedding vectors', dim=DIMENSION)\n",
    "\n",
    "fields = [track_name_field, album_name_field, popularity_field, embedding_field]\n",
    "schema = CollectionSchema(fields=fields, description='Linkin Park Songs collection')\n",
    "collection = Collection(name=COLLECTION_NAME, schema=schema)\n",
    "\n",
    "# Create an index for the collection.\n",
    "\n",
    "index_params = {\n",
    "    'index_type': 'IVF_FLAT',\n",
    "    'metric_type': 'L2',\n",
    "    'params': {'nlist': 64}\n",
    "}\n",
    "collection.create_index(field_name=\"embedding\", index_params=index_params)"
   ]
  },
  {
   "cell_type": "code",
   "execution_count": null,
   "id": "1453020a-af58-4aa4-84e7-fa629b599961",
   "metadata": {},
   "outputs": [],
   "source": [
    "# Get the embeddings for the text using OpenAI\n",
    "def embed(text):\n",
    "    return openai.Embedding.create(\n",
    "        input=text, \n",
    "        engine=OPENAI_ENGINE)[\"data\"][0][\"embedding\"]"
   ]
  },
  {
   "cell_type": "code",
   "execution_count": null,
   "id": "9a3f298e-af40-4e35-9ac5-5162401cb85c",
   "metadata": {},
   "outputs": [],
   "source": [
    "# Get embedding\n",
    "count = 0\n",
    "tracks = []\n",
    "albums = []\n",
    "popularity = []\n",
    "embds = []\n",
    "for index, row in lp_dataset.iterrows():\n",
    "    tracks.append(row['track_name'])\n",
    "    albums.append(row['album_name'])\n",
    "    popularity.append(row['popularity'])\n",
    "    embds.append(embed(row['track_name']))\n",
    "    # data_to_insert.append(data)\n",
    "    time.sleep(1)\n",
    "    count+=1\n",
    "    if count%10==0 and count>0:\n",
    "        print(f'Embedding generated for {count} song titles')\n",
    "    if count==COUNT:\n",
    "        break\n",
    "\n",
    "data_to_insert = [tracks, albums, popularity, embds]\n"
   ]
  },
  {
   "cell_type": "code",
   "execution_count": null,
   "id": "9aa7b5bb-dd55-47c4-b4a2-faeed7121a40",
   "metadata": {},
   "outputs": [],
   "source": [
    "# Insert the data to Milvus collection\n",
    "collection.insert(data_to_insert)"
   ]
  },
  {
   "cell_type": "code",
   "execution_count": null,
   "id": "d6faa6df-7db5-4de6-ad81-28dedd053e1b",
   "metadata": {},
   "outputs": [],
   "source": [
    "# Load the collection into memory for searching\n",
    "collection.load()\n",
    "\n",
    "# Search the database based on input text\n",
    "def search(text):\n",
    "    # Search parameters for the index\n",
    "    search_params={\n",
    "        \"metric_type\": \"L2\"\n",
    "    }\n",
    "\n",
    "    results=collection.search(\n",
    "        data=[embed(text)],  # Embeded search value\n",
    "        anns_field=\"embedding\",  # Search across embeddings\n",
    "        param=search_params,\n",
    "        limit=5,  # Limit to five results per search\n",
    "        output_fields=['album_name', 'popularity']  # Include title field in result\n",
    "    )\n",
    "\n",
    "    return results\n",
    "\n",
    "search_terms=['habit']\n",
    "print(search(search_terms))\n"
   ]
  },
  {
   "cell_type": "code",
   "execution_count": null,
   "id": "e854ba9d-99e9-4f61-95d1-17b333a6ed66",
   "metadata": {},
   "outputs": [],
   "source": [
    "print(len(data_to_insert))"
   ]
  },
  {
   "cell_type": "code",
   "execution_count": null,
   "id": "ab293174-f66f-484e-82f4-f1dde8304669",
   "metadata": {},
   "outputs": [],
   "source": [
    "search_terms=['bleed']\n",
    "results = search(search_terms)\n",
    "\n",
    "for indx, result in enumerate(results[0]):\n",
    "    print('='*20)\n",
    "    print('Song name: ', result.id)\n",
    "    print('Album name: ', result.entity.get('album_name'))\n",
    "    print('Popularity: ', result.entity.get('popularity'))"
   ]
  },
  {
   "cell_type": "code",
   "execution_count": null,
   "id": "485706ac-6cd6-4ed9-bc23-38a678931314",
   "metadata": {},
   "outputs": [],
   "source": []
  }
 ],
 "metadata": {
  "kernelspec": {
   "display_name": "Python 3 (ipykernel)",
   "language": "python",
   "name": "python3"
  },
  "language_info": {
   "codemirror_mode": {
    "name": "ipython",
    "version": 3
   },
   "file_extension": ".py",
   "mimetype": "text/x-python",
   "name": "python",
   "nbconvert_exporter": "python",
   "pygments_lexer": "ipython3",
   "version": "3.11.2"
  }
 },
 "nbformat": 4,
 "nbformat_minor": 5
}
