{
 "cells": [
  {
   "cell_type": "code",
   "execution_count": 1,
   "id": "1be1601c-cf01-4fc2-ac45-b2e60cf4e5d5",
   "metadata": {},
   "outputs": [],
   "source": [
    "from pymilvus import Role, utility, connections, Collection\n",
    "connections.connect(\n",
    "  alias=\"default\",\n",
    "  host='localhost',\n",
    "  port='19530',\n",
    "    user='root',\n",
    "    password='Milvus'\n",
    ")"
   ]
  },
  {
   "cell_type": "code",
   "execution_count": 2,
   "id": "8eff92fc-987b-4ae6-9c4f-4e089ae8a59a",
   "metadata": {},
   "outputs": [
    {
     "name": "stdout",
     "output_type": "stream",
     "text": [
      "RoleInfo groups:\n",
      "- RoleItem: <role_name:admin>, <users:()>\n",
      "- RoleItem: <role_name:public>, <users:()>\n",
      "RoleInfo groups:\n",
      "- RoleItem: <role_name:admin>, <users:()>\n",
      "- RoleItem: <role_name:public>, <users:()>\n",
      "- RoleItem: <role_name:test_role>, <users:()>\n"
     ]
    }
   ],
   "source": [
    "# Create a role\n",
    "print(utility.list_roles(include_user_info=True, using=\"default\"))\n",
    "\n",
    "role_name = \"test_role\"\n",
    "role = Role(role_name, using=\"default\")\n",
    "role.create()\n",
    "\n",
    "print(utility.list_roles(include_user_info=True, using=\"default\"))"
   ]
  },
  {
   "cell_type": "code",
   "execution_count": 3,
   "id": "eb5a2a4a-a194-4cc6-b17d-ab2facf85474",
   "metadata": {},
   "outputs": [
    {
     "data": {
      "text/plain": [
       "GrantInfo groups:\n",
       "- GrantItem: <object:Collection>, <object_name:*>, <db_name:default>, <role_name:test_role>, <grantor_name:root>, <privilege:Search>"
      ]
     },
     "execution_count": 3,
     "metadata": {},
     "output_type": "execute_result"
    }
   ],
   "source": [
    "# Grant Privileges to the role\n",
    "\n",
    "role.grant(\"Collection\", \"*\", \"Search\")\n",
    "role.list_grants()"
   ]
  },
  {
   "cell_type": "code",
   "execution_count": 4,
   "id": "ddb1ce75-ce88-4e1c-94b7-50cc481de557",
   "metadata": {},
   "outputs": [
    {
     "name": "stdout",
     "output_type": "stream",
     "text": [
      "['golden_clover', 'root']\n"
     ]
    }
   ],
   "source": [
    "# Create a new user\n",
    "utility.create_user('golden_clover', '123456', using=\"default\")\n",
    "print(utility.list_usernames(using=\"default\"))"
   ]
  },
  {
   "cell_type": "code",
   "execution_count": 5,
   "id": "64ee685b-55a5-4b7c-917a-1458663c5994",
   "metadata": {},
   "outputs": [
    {
     "name": "stdout",
     "output_type": "stream",
     "text": [
      "UserInfo groups:\n",
      "- UserItem: <username:golden_clover>, <roles:()>\n",
      "UserInfo groups:\n",
      "- UserItem: <username:golden_clover>, <roles:('test_role',)>\n"
     ]
    }
   ],
   "source": [
    "# Add role to user\n",
    "print(utility.list_user('golden_clover', include_role_info=True, using=\"default\"))\n",
    "\n",
    "role.add_user('golden_clover')\n",
    "\n",
    "print(utility.list_user('golden_clover', include_role_info=True, using=\"default\"))"
   ]
  },
  {
   "cell_type": "code",
   "execution_count": 6,
   "id": "ea0c9a7c-c4aa-4d8e-a3b5-c30a6bd3e5cb",
   "metadata": {},
   "outputs": [
    {
     "data": {
      "text/plain": [
       "GrantInfo groups:"
      ]
     },
     "execution_count": 6,
     "metadata": {},
     "output_type": "execute_result"
    }
   ],
   "source": [
    "# Revoke permissions\n",
    "\n",
    "role.revoke(\"Collection\",\"*\",\"Search\")\n",
    "role.list_grants()"
   ]
  },
  {
   "cell_type": "code",
   "execution_count": 7,
   "id": "71f3bd68-26d5-473b-8077-4fdbec1cdad9",
   "metadata": {},
   "outputs": [
    {
     "name": "stdout",
     "output_type": "stream",
     "text": [
      "UserInfo groups:\n",
      "- UserItem: <username:golden_clover>, <roles:()>\n"
     ]
    }
   ],
   "source": [
    "# Remove user from role\n",
    "\n",
    "role.remove_user('golden_clover')\n",
    "\n",
    "print(utility.list_user('golden_clover', include_role_info=True, using=\"default\"))"
   ]
  },
  {
   "cell_type": "code",
   "execution_count": 8,
   "id": "40213d46-5687-4f18-bc19-3c827344ae34",
   "metadata": {},
   "outputs": [
    {
     "data": {
      "text/plain": [
       "RoleInfo groups:\n",
       "- RoleItem: <role_name:admin>, <users:()>\n",
       "- RoleItem: <role_name:public>, <users:()>"
      ]
     },
     "execution_count": 8,
     "metadata": {},
     "output_type": "execute_result"
    }
   ],
   "source": [
    "# Drop a role\n",
    "\n",
    "role.drop()\n",
    "utility.list_roles(include_user_info=True, using=\"default\")"
   ]
  },
  {
   "cell_type": "code",
   "execution_count": 9,
   "id": "6ca85fbd-9faf-4950-9e09-3c382971c437",
   "metadata": {},
   "outputs": [
    {
     "name": "stdout",
     "output_type": "stream",
     "text": [
      "['root']\n"
     ]
    }
   ],
   "source": [
    "# Drop a user\n",
    "utility.delete_user('golden_clover', using=\"default\")\n",
    "print(utility.list_usernames(using=\"default\"))\n"
   ]
  },
  {
   "cell_type": "code",
   "execution_count": null,
   "id": "204ffc52-83dd-41c9-9f64-11099fe536a0",
   "metadata": {},
   "outputs": [],
   "source": []
  }
 ],
 "metadata": {
  "kernelspec": {
   "display_name": "Python 3 (ipykernel)",
   "language": "python",
   "name": "python3"
  },
  "language_info": {
   "codemirror_mode": {
    "name": "ipython",
    "version": 3
   },
   "file_extension": ".py",
   "mimetype": "text/x-python",
   "name": "python",
   "nbconvert_exporter": "python",
   "pygments_lexer": "ipython3",
   "version": "3.11.2"
  }
 },
 "nbformat": 4,
 "nbformat_minor": 5
}
